{
 "cells": [
  {
   "cell_type": "code",
   "execution_count": 1,
   "metadata": {},
   "outputs": [],
   "source": [
    "# imports\n",
    "import pandas as pd\n",
    "from pandas import json_normalize\n",
    "import sqlite3 as sq\n",
    "import os\n",
    "import requests\n",
    "import json"
   ]
  },
  {
   "cell_type": "code",
   "execution_count": 2,
   "metadata": {},
   "outputs": [],
   "source": [
    "#Key initialization\n",
    "#set the keys\n",
    "foursquare_id = os.environ[\"FOURSQUARE_API_KEY\"]\n",
    "foursquare_secret = os.environ[\"FOURSQUARE_SECRET\"]"
   ]
  },
  {
   "cell_type": "code",
   "execution_count": 3,
   "metadata": {},
   "outputs": [],
   "source": [
    "#set base url\n",
    "url = \"https://api.foursquare.com/v3/places/search?ll=43.656112128112106%2C-79.3802357750855&radius=1000&categories=10039&fields=rating%2Cname%2Cdistance%2Clocation\"\n",
    "\n",
    "#set header variable\n",
    "headers = {\"accept\": \"application/json\",\n",
    "           \"authorization\": foursquare_id}"
   ]
  },
  {
   "cell_type": "code",
   "execution_count": 4,
   "metadata": {},
   "outputs": [],
   "source": [
    "#---Static-Variables-----\n",
    "\n",
    "location = '43.656112128112106,-79.3802357750855'    #Young-Dundas Square\n",
    "location2 = '43.725543525284145,-79.45215847331576'  #Yorkdale Mall\n",
    "radius = 1000   #in meters\n"
   ]
  },
  {
   "cell_type": "code",
   "execution_count": 5,
   "metadata": {},
   "outputs": [],
   "source": [
    "#Request function\n",
    "\n",
    "def get_venues(urlstr, head):\n",
    "    \"\"\"\n",
    "    Requests information from the parameter url\n",
    "    Responds with status code\n",
    "    if the code is not 204, return the response.\n",
    "    \"\"\"\n",
    "    response = requests.get(urlstr, headers=head)\n",
    "    response.raise_for_status()\n",
    "    if response.status_code != 204:\n",
    "        return response"
   ]
  },
  {
   "cell_type": "markdown",
   "metadata": {},
   "source": [
    "# Foursquare"
   ]
  },
  {
   "cell_type": "markdown",
   "metadata": {},
   "source": [
    "Send a request to Foursquare with a small radius (1000m) with the location of your choice"
   ]
  },
  {
   "cell_type": "code",
   "execution_count": 6,
   "metadata": {},
   "outputs": [],
   "source": [
    "data = get_venues(url, headers)"
   ]
  },
  {
   "cell_type": "markdown",
   "metadata": {},
   "source": [
    "Parse through the response to get the POI details you want (rating, name, location, etc)"
   ]
  },
  {
   "cell_type": "code",
   "execution_count": 7,
   "metadata": {},
   "outputs": [],
   "source": [
    "#parse data for conversion using .json() method\n",
    "parsed_data = data.json()"
   ]
  },
  {
   "cell_type": "markdown",
   "metadata": {},
   "source": [
    "Put your parsed results into a DataFrame"
   ]
  },
  {
   "cell_type": "code",
   "execution_count": 8,
   "metadata": {},
   "outputs": [],
   "source": [
    "#Convert JSON to DataFrame using json_normalize()\n",
    "df = pd.json_normalize(parsed_data['results'])"
   ]
  },
  {
   "cell_type": "code",
   "execution_count": 9,
   "metadata": {},
   "outputs": [
    {
     "name": "stdout",
     "output_type": "stream",
     "text": [
      "Music Venues within 1km of Young-Dundas Square (in meters):\n"
     ]
    },
    {
     "data": {
      "text/html": [
       "<div>\n",
       "<style scoped>\n",
       "    .dataframe tbody tr th:only-of-type {\n",
       "        vertical-align: middle;\n",
       "    }\n",
       "\n",
       "    .dataframe tbody tr th {\n",
       "        vertical-align: top;\n",
       "    }\n",
       "\n",
       "    .dataframe thead th {\n",
       "        text-align: right;\n",
       "    }\n",
       "</style>\n",
       "<table border=\"1\" class=\"dataframe\">\n",
       "  <thead>\n",
       "    <tr style=\"text-align: right;\">\n",
       "      <th></th>\n",
       "      <th>name</th>\n",
       "      <th>address</th>\n",
       "      <th>rating</th>\n",
       "    </tr>\n",
       "  </thead>\n",
       "  <tbody>\n",
       "    <tr>\n",
       "      <th>0</th>\n",
       "      <td>Elgin &amp; Winter Garden Theatre Ctr</td>\n",
       "      <td>189 Yonge St (btwn Queen St E &amp; Shuter St), To...</td>\n",
       "      <td>4.50</td>\n",
       "    </tr>\n",
       "    <tr>\n",
       "      <th>1</th>\n",
       "      <td>The Four Seasons Centre for the Performing Arts</td>\n",
       "      <td>145 Queen St W (at University Ave.), Toronto O...</td>\n",
       "      <td>4.45</td>\n",
       "    </tr>\n",
       "    <tr>\n",
       "      <th>2</th>\n",
       "      <td>Jazz Bistro</td>\n",
       "      <td>251 Victoria St (btwn Dundas St. E &amp; Shuter St...</td>\n",
       "      <td>4.25</td>\n",
       "    </tr>\n",
       "    <tr>\n",
       "      <th>3</th>\n",
       "      <td>Canadian Opera Co</td>\n",
       "      <td>145 Queen St W (University), Toronto ON M5H 4G1</td>\n",
       "      <td>4.00</td>\n",
       "    </tr>\n",
       "    <tr>\n",
       "      <th>4</th>\n",
       "      <td>Betty Oliphant Theatre</td>\n",
       "      <td>400 Jarvis St, Toronto ON M4Y 2G6</td>\n",
       "      <td>3.95</td>\n",
       "    </tr>\n",
       "    <tr>\n",
       "      <th>5</th>\n",
       "      <td>Buddies in Bad Times Theatre</td>\n",
       "      <td>12 Alexander St (Yonge St), Toronto ON M4Y 1B4</td>\n",
       "      <td>3.90</td>\n",
       "    </tr>\n",
       "    <tr>\n",
       "      <th>6</th>\n",
       "      <td>Bar Plus</td>\n",
       "      <td>2Nd Floor, Toronto ON M5B 1S5</td>\n",
       "      <td>3.10</td>\n",
       "    </tr>\n",
       "    <tr>\n",
       "      <th>7</th>\n",
       "      <td>Bluma Appel Theatre</td>\n",
       "      <td>27 Front St E, Toronto ON M5E 1B4</td>\n",
       "      <td>3.10</td>\n",
       "    </tr>\n",
       "    <tr>\n",
       "      <th>8</th>\n",
       "      <td>Ryerson Theatre</td>\n",
       "      <td>43 Gerrard St E (btwn Yonge &amp; Church), Toronto...</td>\n",
       "      <td>3.00</td>\n",
       "    </tr>\n",
       "    <tr>\n",
       "      <th>9</th>\n",
       "      <td>Fusion Rock Radio</td>\n",
       "      <td>10 Dundas St E (at Yonge St.), Toronto ON M5B 2G9</td>\n",
       "      <td>0.00</td>\n",
       "    </tr>\n",
       "  </tbody>\n",
       "</table>\n",
       "</div>"
      ],
      "text/plain": [
       "                                              name  \\\n",
       "0                Elgin & Winter Garden Theatre Ctr   \n",
       "1  The Four Seasons Centre for the Performing Arts   \n",
       "2                                      Jazz Bistro   \n",
       "3                                Canadian Opera Co   \n",
       "4                           Betty Oliphant Theatre   \n",
       "5                     Buddies in Bad Times Theatre   \n",
       "6                                         Bar Plus   \n",
       "7                              Bluma Appel Theatre   \n",
       "8                                  Ryerson Theatre   \n",
       "9                                Fusion Rock Radio   \n",
       "\n",
       "                                             address  rating  \n",
       "0  189 Yonge St (btwn Queen St E & Shuter St), To...    4.50  \n",
       "1  145 Queen St W (at University Ave.), Toronto O...    4.45  \n",
       "2  251 Victoria St (btwn Dundas St. E & Shuter St...    4.25  \n",
       "3    145 Queen St W (University), Toronto ON M5H 4G1    4.00  \n",
       "4                  400 Jarvis St, Toronto ON M4Y 2G6    3.95  \n",
       "5     12 Alexander St (Yonge St), Toronto ON M4Y 1B4    3.90  \n",
       "6                      2Nd Floor, Toronto ON M5B 1S5    3.10  \n",
       "7                  27 Front St E, Toronto ON M5E 1B4    3.10  \n",
       "8  43 Gerrard St E (btwn Yonge & Church), Toronto...    3.00  \n",
       "9  10 Dundas St E (at Yonge St.), Toronto ON M5B 2G9    0.00  "
      ]
     },
     "execution_count": 9,
     "metadata": {},
     "output_type": "execute_result"
    }
   ],
   "source": [
    "print('Music Venues within 1km of Young-Dundas Square (in meters):')\n",
    "\n",
    "#sorting method to isolate columns needed, and make \n",
    "#bulky column names more legible with .rename()\n",
    "sort_fs_df = df[['name', 'location.formatted_address', 'rating']].sort_values('rating', ascending=False).rename(columns={'location.formatted_address': 'address'}).fillna(0.0)\n",
    "\n",
    "#convert the 10-point rating system to a 5-point rating\n",
    "sort_fs_df['rating'] = sort_fs_df['rating']*0.5\n",
    "\n",
    "#renumber the index after sorting by rating\n",
    "fs_df = sort_fs_df.reset_index(drop=True)\n",
    "fs_df"
   ]
  },
  {
   "cell_type": "markdown",
   "metadata": {},
   "source": [
    "# Yelp"
   ]
  },
  {
   "cell_type": "markdown",
   "metadata": {},
   "source": [
    "Send a request with the same location paramaters (location, radius, etc)"
   ]
  },
  {
   "cell_type": "code",
   "execution_count": 10,
   "metadata": {},
   "outputs": [],
   "source": [
    "#yelp api initialize\n",
    "yelp_api = os.environ[\"YELP_API_KEY\"]\n",
    "yelp_headers = {\"accept\": \"application/json\",\n",
    "           \"Authorization\": f\"BEARER {yelp_api}\"}\n",
    "\n",
    "#yelp query Variables\n",
    "yelp_url = \"https://api.yelp.com/v3/businesses/search?latitude=43.656112128112106&longitude=-79.3802357750855&radius=1000&categories=musicvenues&=\""
   ]
  },
  {
   "cell_type": "code",
   "execution_count": 11,
   "metadata": {},
   "outputs": [],
   "source": [
    "#yelp data pull\n",
    "yelp_data = get_venues(yelp_url, yelp_headers)"
   ]
  },
  {
   "cell_type": "markdown",
   "metadata": {},
   "source": [
    "Parse through your result and get POI details"
   ]
  },
  {
   "cell_type": "code",
   "execution_count": 12,
   "metadata": {},
   "outputs": [],
   "source": [
    "yelp_parsed = yelp_data.json()"
   ]
  },
  {
   "cell_type": "markdown",
   "metadata": {},
   "source": [
    "Put your parsed results into a DataFrame"
   ]
  },
  {
   "cell_type": "code",
   "execution_count": 13,
   "metadata": {},
   "outputs": [],
   "source": [
    "df = pd.json_normalize(yelp_parsed['businesses'])\n",
    "\n",
    "#sorting method to isolate columns needed, and make \n",
    "#bulky column names more legible with .rename()\n",
    "sort_yp_df = df[['name', 'location.display_address', 'rating']].sort_values('rating', ascending=False).rename(columns={'location.display_address': 'address'})\n",
    "\n",
    "#Renumber the index after sorting by rating \n",
    "yp_df = sort_yp_df.reset_index(drop=True)\n"
   ]
  },
  {
   "cell_type": "code",
   "execution_count": 14,
   "metadata": {},
   "outputs": [],
   "source": [
    "#convert list values in address column to string, so it can be sent to sql\n",
    "yp_df['address'] = yp_df['address'].apply(lambda x: str(x))"
   ]
  },
  {
   "cell_type": "code",
   "execution_count": 15,
   "metadata": {},
   "outputs": [
    {
     "name": "stdout",
     "output_type": "stream",
     "text": [
      "Music Venues within 1km of Young-Dundas Square (by rating):\n"
     ]
    },
    {
     "data": {
      "text/plain": [
       "0     ['54 The Esplanade', 'Toronto, ON M5E 1A6', 'C...\n",
       "1     ['178 Victoria Street', 'Toronto, ON M5B 1T7',...\n",
       "2     ['52  Wellington Street E', 'Toronto, ON M5E 1...\n",
       "3     ['43 Gerrard Street E', 'Toronto, ON M5G 2A7',...\n",
       "4     ['76 Church Street', 'Toronto, ON M5C 2G1', 'C...\n",
       "5     ['First Canadian Place', '100 King St W', 'Tor...\n",
       "6     ['67 Front Street E', 'Toronto, ON M5E 1B5', '...\n",
       "7     ['251 Victoria Street', 'Toronto, ON M5B 1T8',...\n",
       "8     ['250 Adelaide Street W', 'Toronto, ON M5H 1X6...\n",
       "9     ['49 Front Street E', 'Toronto, ON M5E 1B3', '...\n",
       "10    ['410 Sherbourne St', 'Toronto, ON M4X 1K2', '...\n",
       "11    ['340 Yonge St', 'Toronto, ON M5B 1R8', 'Canada']\n",
       "Name: address, dtype: object"
      ]
     },
     "execution_count": 15,
     "metadata": {},
     "output_type": "execute_result"
    }
   ],
   "source": [
    "print('Music Venues within 1km of Young-Dundas Square (by rating):')\n",
    "yp_df['address']"
   ]
  },
  {
   "cell_type": "markdown",
   "metadata": {},
   "source": [
    "# Database"
   ]
  },
  {
   "cell_type": "markdown",
   "metadata": {},
   "source": [
    "Put all your results in an SQLite3 database (remember, SQLite stores its databases as files in your local machine - make sure to create your database in your project's data/ directory!)"
   ]
  },
  {
   "cell_type": "code",
   "execution_count": 16,
   "metadata": {},
   "outputs": [],
   "source": [
    "# #create database\n",
    "conn = sq.connect('../data/eda_data')\n"
   ]
  },
  {
   "cell_type": "code",
   "execution_count": 17,
   "metadata": {},
   "outputs": [
    {
     "data": {
      "text/plain": [
       "12"
      ]
     },
     "execution_count": 17,
     "metadata": {},
     "output_type": "execute_result"
    }
   ],
   "source": [
    "# #send dataframes to sql\n",
    "yp_df.to_sql('locations', conn, if_exists='replace', index=False)"
   ]
  },
  {
   "cell_type": "code",
   "execution_count": 18,
   "metadata": {},
   "outputs": [
    {
     "data": {
      "text/plain": [
       "10"
      ]
     },
     "execution_count": 18,
     "metadata": {},
     "output_type": "execute_result"
    }
   ],
   "source": [
    "fs_df.to_sql('locations', conn, if_exists='append', index=False)"
   ]
  },
  {
   "cell_type": "markdown",
   "metadata": {},
   "source": [
    "Get the top 10 venues according to their rating"
   ]
  },
  {
   "cell_type": "code",
   "execution_count": 19,
   "metadata": {},
   "outputs": [
    {
     "name": "stdout",
     "output_type": "stream",
     "text": [
      "   rating                                             name\n",
      "0    5.00                                    Bar Cathedral\n",
      "1    4.50                Elgin & Winter Garden Theatre Ctr\n",
      "2    4.45  The Four Seasons Centre for the Performing Arts\n",
      "3    4.25                                      Jazz Bistro\n",
      "4    4.00                                      Massey Hall\n",
      "5    4.00                             The Reservoir Lounge\n",
      "6    4.00                                  Ryerson Theatre\n",
      "7    4.00                                   The Cavern Bar\n",
      "8    4.00                                  Waterfall Stage\n",
      "9    4.00                                Canadian Opera Co\n"
     ]
    }
   ],
   "source": [
    "result = pd.read_sql('SELECT rating, name\\\n",
    "                      FROM locations\\\n",
    "                      ORDER BY rating DESC\\\n",
    "                      LIMIT 10', conn)\n",
    "print(result)"
   ]
  }
 ],
 "metadata": {
  "kernelspec": {
   "display_name": "Python 3 (ipykernel)",
   "language": "python",
   "name": "python3"
  },
  "language_info": {
   "codemirror_mode": {
    "name": "ipython",
    "version": 3
   },
   "file_extension": ".py",
   "mimetype": "text/x-python",
   "name": "python",
   "nbconvert_exporter": "python",
   "pygments_lexer": "ipython3",
   "version": "3.8.13"
  }
 },
 "nbformat": 4,
 "nbformat_minor": 4
}
